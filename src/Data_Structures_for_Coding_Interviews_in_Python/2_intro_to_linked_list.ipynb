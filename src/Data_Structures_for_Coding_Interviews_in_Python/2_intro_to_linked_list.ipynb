{
 "cells": [
  {
   "cell_type": "code",
   "execution_count": 48,
   "outputs": [
    {
     "name": "stdout",
     "output_type": "stream",
     "text": [
      "1\n",
      "2\n"
     ]
    }
   ],
   "source": [
    "class Node:\n",
    "    '''\n",
    "    Each element of a linked list is called a node, and every node has two different fields:\n",
    "\n",
    "    Data contains the value to be stored in the node.\n",
    "    Next contains a reference to the next node on the list.\n",
    "    '''\n",
    "\n",
    "    def __init__(self, data):\n",
    "        self.data = data\n",
    "        self.next_element = None  # Stores pointer to next element\n",
    "\n",
    "\n",
    "class LinkedList:\n",
    "    '''\n",
    "    The first node is called the head\n",
    "    '''\n",
    "\n",
    "    def __init__(self, node: Node):\n",
    "        self.head_node = node\n",
    "\n",
    "    def get_head(self) -> Node:\n",
    "        return self.head_node\n",
    "\n",
    "    def insert_last(self, new_node: Node):\n",
    "        tmp_node = self.head_node\n",
    "        while tmp_node.next_element:\n",
    "            tmp_node = tmp_node.next_element\n",
    "\n",
    "        tmp_node.next_element = new_node\n",
    "\n",
    "    def print_from_head_to_tail(self):\n",
    "        head_node = self.get_head()\n",
    "        print(head_node.data)\n",
    "        while head_node.next_element:\n",
    "            head_node = head_node.next_element\n",
    "            print(head_node.data)\n",
    "\n",
    "\n",
    "if __name__ == '__main__':\n",
    "    linkedList = LinkedList(Node(1))\n",
    "    linkedList.insert_last(Node(2))\n",
    "    linkedList.print_from_head_to_tail()\n"
   ],
   "metadata": {
    "collapsed": false,
    "pycharm": {
     "name": "#%%\n"
    }
   }
  },
  {
   "cell_type": "code",
   "execution_count": 49,
   "outputs": [
    {
     "name": "stdout",
     "output_type": "stream",
     "text": [
      "1\n",
      "422\n"
     ]
    }
   ],
   "source": [
    "'''\n",
    "Challenge 1: Insertion at Tail\n",
    "\n",
    "We need to insert a new object at the end of the linked list. You can naturally guess, that this newly added node will point to None as it is at the tail.\n",
    "'''\n",
    "\n",
    "\n",
    "def insert_at_tail(lst, value):\n",
    "    # if list not empty, traverse the list to the last node\n",
    "    head_node = lst.get_head()\n",
    "\n",
    "    # Check if the list is empty, if it is simply point head to new node\n",
    "    if head_node is None:\n",
    "        lst.head_node = Node(value)\n",
    "        return\n",
    "\n",
    "    while head_node.next_element:\n",
    "        head_node = head_node.next_element\n",
    "\n",
    "    # Set the nextElement of the previous node to new node\n",
    "    head_node.next_element = Node(value)\n",
    "    return\n",
    "\n",
    "\n",
    "if __name__ == '__main__':\n",
    "    linkedList = LinkedList(Node(1))\n",
    "    insert_at_tail(linkedList, 422)\n",
    "    linkedList.print_from_head_to_tail()"
   ],
   "metadata": {
    "collapsed": false,
    "pycharm": {
     "name": "#%%\n"
    }
   }
  },
  {
   "cell_type": "code",
   "execution_count": 50,
   "outputs": [
    {
     "name": "stdout",
     "output_type": "stream",
     "text": [
      "True\n"
     ]
    }
   ],
   "source": [
    "'''\n",
    "Challenge 2: Search in a Singly Linked List\n",
    "To search for a specific value in a linked list, there is no other approach but to traverse the whole list until we find the desired value.\n",
    "\n",
    "Steps:\n",
    "1. Start from the head node.\n",
    "2. Traverse the list till you either find a node with the given value or you reach the end node which will indicate that the given node doesn’t exist in the list.\n",
    "\n",
    "'''\n",
    "\n",
    "\n",
    "# Access head_node => list.get_head()\n",
    "# Check if list is empty => list.is_empty()\n",
    "# Node class  {int data ; Node next_element;}\n",
    "\n",
    "# Searches a value in the given list.\n",
    "\n",
    "def search(lst, value):\n",
    "    # Write your code here\n",
    "    if lst.get_head() is None:\n",
    "        return False\n",
    "    head = lst.get_head()\n",
    "\n",
    "    while head is not None:\n",
    "        if head.data == value:\n",
    "            return True\n",
    "        head = head.next_element\n",
    "    return False\n",
    "\n",
    "\n",
    "if __name__ == '__main__':\n",
    "    linkedList = LinkedList(Node(1))\n",
    "    linkedList.insert_last(Node(33))\n",
    "    print(search(linkedList, 33))"
   ],
   "metadata": {
    "collapsed": false,
    "pycharm": {
     "name": "#%%\n"
    }
   }
  },
  {
   "cell_type": "code",
   "execution_count": 51,
   "outputs": [
    {
     "name": "stdout",
     "output_type": "stream",
     "text": [
      "False\n",
      "33\n",
      "True\n",
      "1\n",
      "44\n"
     ]
    }
   ],
   "source": [
    "'''\n",
    "Deletion is one of the instances where linked lists are more efficient than arrays. In an array, you have to shift all the elements backward if one element is deleted. Even then, the end of the array is empty and it takes up unnecessary memory.\n",
    "\n",
    "Deletion at the head\n",
    "Deletion by value\n",
    "Deletion at the tail\n",
    "\n",
    "Restriction - you cannot use internal 'previous_element' method\n",
    "'''\n",
    "\n",
    "\n",
    "def delete(lst, value):\n",
    "    res = False\n",
    "    #empty linkedList\n",
    "    if lst.get_head() is None:\n",
    "        return False\n",
    "\n",
    "    #check first element\n",
    "    if lst.get_head() == value:\n",
    "        lst.head_node = lst.head_node.next_element\n",
    "        return True\n",
    "\n",
    "    node = lst.get_head()\n",
    "    prev_node = lst.get_head()\n",
    "    while node.next_element:\n",
    "        node = node.next_element\n",
    "        if node.data == value:\n",
    "            prev_node.next_element = node.next_element\n",
    "            res = True\n",
    "        else:\n",
    "            prev_node = node\n",
    "\n",
    "    return res\n",
    "\n",
    "\n",
    "if __name__ == '__main__':\n",
    "    linkedList = LinkedList(Node(33))\n",
    "    print(delete(linkedList, 33))\n",
    "    linkedList.print_from_head_to_tail()\n",
    "\n",
    "    linkedList = LinkedList(Node(1))\n",
    "    linkedList.insert_last(Node(33))\n",
    "    linkedList.insert_last(Node(44))\n",
    "    linkedList.insert_last(Node(33))\n",
    "    linkedList.insert_last(Node(33))\n",
    "    print(delete(linkedList, 33))\n",
    "    linkedList.print_from_head_to_tail()"
   ],
   "metadata": {
    "collapsed": false,
    "pycharm": {
     "name": "#%%\n"
    }
   }
  },
  {
   "cell_type": "code",
   "execution_count": 52,
   "outputs": [
    {
     "name": "stdout",
     "output_type": "stream",
     "text": [
      "3\n",
      "4\n"
     ]
    }
   ],
   "source": [
    "'''\n",
    "\n",
    "Singly Linked Lists vs. Doubly Linked Lists:\n",
    "\n",
    "- Doubly linked lists can be traversed in both directions, which makes them more compatible with complex algorithms.\n",
    "- Nodes in doubly linked lists require extra memory to store the previous_element pointer.\n",
    "- Deletion is more efficient in doubly linked lists as we do not need to keep track of the previous node. We already have a backwards pointer for it.\n",
    "'''\n",
    "\n",
    "\n",
    "class NodeDLL:\n",
    "    def __init__(self, val):\n",
    "        self.data = val\n",
    "        self.next_element = None\n",
    "        self.previous_element = None\n",
    "\n",
    "\n",
    "class DoublyLinkedList:\n",
    "    def __init__(self):\n",
    "        self.head_node = None\n",
    "\n",
    "    def get_head(self) -> NodeDLL:\n",
    "        return self.head_node\n",
    "\n",
    "    def add_to_tail(self, new_node: NodeDLL):\n",
    "        head_node = self.get_head()\n",
    "\n",
    "        if head_node is None:\n",
    "            self.head_node = new_node\n",
    "        else:\n",
    "            while head_node.next_element:\n",
    "                head_node = head_node.next_element\n",
    "            head_node.next_element = new_node\n",
    "\n",
    "    def print_list_from_head(self):\n",
    "        head = self.get_head()\n",
    "        if head is not None and head.next_element is not None:\n",
    "            print(head.data)\n",
    "            while head.next_element:\n",
    "                head = head.next_element\n",
    "                print(head.data)\n",
    "        elif head is not None:\n",
    "            print(head.data)\n",
    "\n",
    "\n",
    "if __name__ == '__main__':\n",
    "    dll = DoublyLinkedList()\n",
    "    dll.add_to_tail(NodeDLL(3))\n",
    "    dll.add_to_tail(NodeDLL(4))\n",
    "    dll.print_list_from_head()"
   ],
   "metadata": {
    "collapsed": false,
    "pycharm": {
     "name": "#%%\n"
    }
   }
  },
  {
   "cell_type": "code",
   "execution_count": 53,
   "outputs": [
    {
     "name": "stdout",
     "output_type": "stream",
     "text": [
      "2\n"
     ]
    }
   ],
   "source": [
    "'''\n",
    "Challenge 4: Find the Length of a Linked List\n",
    "\n",
    "Let's write a function which can tell us the length of a linked list.\n",
    "'''\n",
    "\n",
    "\n",
    "def length(lst):\n",
    "    # Write - Your - Code\n",
    "    if lst.get_head() == None:\n",
    "        return 0\n",
    "\n",
    "    head_node = lst.get_head()\n",
    "    counter = 1\n",
    "    while head_node.next_element:\n",
    "        counter += 1\n",
    "        head_node = head_node.next_element\n",
    "    return counter\n",
    "\n",
    "\n",
    "if __name__ == '__main__':\n",
    "    dll = DoublyLinkedList()\n",
    "    dll.add_to_tail(NodeDLL(3))\n",
    "    dll.add_to_tail(NodeDLL(4))\n",
    "    print(length(dll))"
   ],
   "metadata": {
    "collapsed": false,
    "pycharm": {
     "name": "#%%\n"
    }
   }
  },
  {
   "cell_type": "code",
   "execution_count": 54,
   "outputs": [
    {
     "data": {
      "text/plain": "'\\nChallenge 5: Reverse a Linked List\\n\\n??\\n\\nStart from array reversing\\n'"
     },
     "execution_count": 54,
     "metadata": {},
     "output_type": "execute_result"
    }
   ],
   "source": [
    "'''\n",
    "Challenge 5: Reverse a Linked List\n",
    "\n",
    "??\n",
    "\n",
    "Start from array reversing\n",
    "'''"
   ],
   "metadata": {
    "collapsed": false,
    "pycharm": {
     "name": "#%%\n"
    }
   }
  },
  {
   "cell_type": "code",
   "execution_count": 55,
   "outputs": [
    {
     "name": "stdout",
     "output_type": "stream",
     "text": [
      "1\n",
      "2\n",
      "3\n",
      "4\n",
      "5\n",
      "False\n",
      "True\n"
     ]
    }
   ],
   "source": [
    "'''\n",
    "Challenge 6: Detect Loop in a Linked List\n",
    "\n",
    "Problem Statement\n",
    "By definition, a loop is formed when a node in your linked list points to a previously traversed node.\n",
    "\n",
    "You must implement the detect_loop() function which will take a linked list as input and deduce whether or not a loop is present.\n",
    "\n",
    "Input\n",
    "A singly linked list.\n",
    "\n",
    "Output\n",
    "Returns True if the given linked list contains a loop. Otherwise, it returns False\n",
    "\n",
    "Sample Input\n",
    "LinkedList = 7->14->21->7 # Both '7's are the same node. Not duplicates.\n",
    "\n",
    "\n",
    "Solutions:\n",
    "1. Detect loop in a linked list using Hashing:\n",
    "2. Detect loop in a linked list by Modification In Node Structure \"The idea is to modify the node structure by adding flag in it and mark the flag whenever visit the node. self.flag = 0\"\n",
    "3. Detect loop in a linked list using Floyd’s Cycle-Finding Algorithm:\n",
    "This algorithm is used to find a loop in a linked list. It uses two pointers one moving twice as fast as the other one.\n",
    "The faster one is called the faster pointer and the other one is called the slow pointer.\n",
    "* Traverse linked list using two pointers.\n",
    "* Move one pointer(slow_p) by one and another pointer(fast_p) by two.\n",
    "* If these pointers meet at the same node then there is a loop. If pointers do not meet then the linked list doesn’t have a loop.\n",
    "\n",
    "4.Detect loop in a linked list by Storing length:\n",
    "'''\n",
    "\n",
    "\n",
    "def detect_loop_cycle_finding(lst):\n",
    "    # Keep two iterators\n",
    "    one_step = lst.get_head()\n",
    "    two_step = lst.get_head().next_element\n",
    "\n",
    "    while one_step and two_step and two_step.next_element:\n",
    "        if one_step == two_step:\n",
    "            return True\n",
    "        one_step = one_step.next_element  # Moves one node at a time\n",
    "        #* Move one pointer(slow_p) by one and another pointer(fast_p) by two.\n",
    "        two_step = two_step.next_element.next_element\n",
    "\n",
    "    return False\n",
    "\n",
    "\n",
    "if __name__ == '__main__':\n",
    "    # Driver Code\n",
    "    node = NodeDLL(1)\n",
    "    node.next_element = NodeDLL(2)\n",
    "    node.next_element.next_element = NodeDLL(3)\n",
    "    node.next_element.next_element.next_element = NodeDLL(4)\n",
    "    node.next_element.next_element.next_element.next_element = NodeDLL(5)\n",
    "\n",
    "    dll = DoublyLinkedList()\n",
    "    dll.add_to_tail(node)\n",
    "    dll.print_list_from_head()\n",
    "\n",
    "    # Create a loop for testing(5 is pointing to 3)\n",
    "    print(detect_loop_cycle_finding(dll))\n",
    "    node.next_element.next_element.next_element.next_element.next_element = node.next_element.next_element\n",
    "    print(detect_loop_cycle_finding(dll))"
   ],
   "metadata": {
    "collapsed": false,
    "pycharm": {
     "name": "#%%\n"
    }
   }
  },
  {
   "cell_type": "code",
   "execution_count": 56,
   "outputs": [
    {
     "name": "stdout",
     "output_type": "stream",
     "text": [
      "14\n"
     ]
    }
   ],
   "source": [
    "'''\n",
    "Challenge 7: Find Middle Node of Linked List\n",
    "* Solution #1: Brute Force Method\n",
    "\n",
    "You have to implement the find_mid() function which will take a linked list as an input and return the value of the middle node. If the length of the list is even, the middle value will occur at 'length/2'. For a list of odd length, the middle value will be 'length/2+1\n",
    "\n",
    "Sample Input\n",
    "LinkedList = 7->14->10->21\n",
    "Sample Output\n",
    "14\n",
    "'''\n",
    "\n",
    "\n",
    "def find_mid(lst):\n",
    "    length = 0\n",
    "    head = lst.get_head()\n",
    "\n",
    "    while head:\n",
    "        head = head.next_element\n",
    "        length += 1\n",
    "\n",
    "    if length % 2 != 0:\n",
    "        length += 1\n",
    "    mid = length / 2\n",
    "    head = lst.get_head()\n",
    "\n",
    "    tmp_counter = 1\n",
    "    while head:\n",
    "        if tmp_counter == mid:\n",
    "            return head.data\n",
    "        head = head.next_element\n",
    "        tmp_counter += 1\n",
    "    return head.data\n",
    "\n",
    "\n",
    "if __name__ == '__main__':\n",
    "    dll = DoublyLinkedList()\n",
    "    dll.add_to_tail(NodeDLL(7))\n",
    "    dll.add_to_tail(NodeDLL(14))\n",
    "    dll.add_to_tail(NodeDLL(10))\n",
    "    dll.add_to_tail(NodeDLL(21))\n",
    "    # find_mid(7->14->10->21->None)\n",
    "    # Expected Output 14\n",
    "    print(find_mid(dll))\n",
    "\n"
   ],
   "metadata": {
    "collapsed": false,
    "pycharm": {
     "name": "#%%\n"
    }
   }
  },
  {
   "cell_type": "code",
   "execution_count": 57,
   "outputs": [
    {
     "data": {
      "text/plain": "'\\nChallenge 7: Find Middle Node of Linked List\\n* Solution #2: Two Pointers\\n\\n- The fast pointer moves two steps at a time till the end of the list\\n- The slow pointer moves one step at a time\\n- when the fast pointer reaches the end, the slow pointer will be at the middle\\n'"
     },
     "execution_count": 57,
     "metadata": {},
     "output_type": "execute_result"
    }
   ],
   "source": [
    "'''\n",
    "Challenge 7: Find Middle Node of Linked List\n",
    "* Solution #2: Two Pointers\n",
    "\n",
    "- The fast pointer moves two steps at a time till the end of the list\n",
    "- The slow pointer moves one step at a time\n",
    "- when the fast pointer reaches the end, the slow pointer will be at the middle\n",
    "'''"
   ],
   "metadata": {
    "collapsed": false,
    "pycharm": {
     "name": "#%%\n"
    }
   }
  },
  {
   "cell_type": "code",
   "execution_count": 58,
   "outputs": [
    {
     "name": "stdout",
     "output_type": "stream",
     "text": [
      "7\n",
      "14\n",
      "21\n",
      "14\n",
      "22\n",
      "7\n",
      "<__main__.DoublyLinkedList object at 0x7fbcf0eca520>\n",
      "7\n",
      "14\n",
      "21\n",
      "22\n"
     ]
    }
   ],
   "source": [
    "'''\n",
    "Challenge 8: Remove Duplicates from Linked List\n",
    "\n",
    "Problem Statement:\n",
    "You will now be implementing the remove_duplicates() function. When a linked list is passed to this function, it removes any node which is a duplicate of another existing node.\n",
    "\n",
    "Sample Input\n",
    "LinkedList = 1->2->2->2->3->4->4->5->6\n",
    "Sample Output\n",
    "LinkedList = 1->2->3->4->5->6\n",
    "'''\n",
    "\n",
    "\n",
    "def remove_duplicates(lst):\n",
    "    nodes_unique = set()\n",
    "    head = lst.get_head()\n",
    "    nodes_unique.add(head.data)\n",
    "    while head:\n",
    "        if head.next_element is not None and head.next_element.data in nodes_unique:\n",
    "            head.next_element = head.next_element.next_element\n",
    "\n",
    "        head = head.next_element\n",
    "        if head:\n",
    "            nodes_unique.add(head.data)\n",
    "    return lst\n",
    "\n",
    "\n",
    "if __name__ == '__main__':\n",
    "    dll = DoublyLinkedList()\n",
    "    dll.add_to_tail(NodeDLL(7))\n",
    "    dll.add_to_tail(NodeDLL(14))\n",
    "    dll.add_to_tail(NodeDLL(21))\n",
    "    dll.add_to_tail(NodeDLL(14))\n",
    "    dll.add_to_tail(NodeDLL(22))\n",
    "    dll.add_to_tail(NodeDLL(7))\n",
    "    dll.print_list_from_head()\n",
    "    # remove_duplicates(7->14->21->14->22->7->None)\n",
    "    # Expected Output (7->14->21->22->None)\n",
    "    print(remove_duplicates(dll))\n",
    "    dll.print_list_from_head()"
   ],
   "metadata": {
    "collapsed": false,
    "pycharm": {
     "name": "#%%\n"
    }
   }
  },
  {
   "cell_type": "code",
   "execution_count": 66,
   "outputs": [
    {
     "name": "stdout",
     "output_type": "stream",
     "text": [
      "intersection\n",
      "7\n",
      "union\n",
      "7\n",
      "42\n",
      "14\n"
     ]
    }
   ],
   "source": [
    "'''\n",
    "Challenge 9: Union & Intersection of Linked Lists\n",
    "\n",
    "Union and intersection are two of the most popular operations which can be performed on data sets. Now, you will be implementing them for linked lists! Let’s take a look at their definitions:\n",
    "\n",
    "Union:\n",
    "The union function will take two linked lists and return their union.\n",
    "\n",
    "Intersection:\n",
    "The intersection function will return all the elements that are common between two linked lists.\n",
    "\n",
    "Sample Input\n",
    "list1 = 10->20->80->60\n",
    "list2 = 15->20->30->60->45\n",
    "\n",
    "Sample Output\n",
    "union = 10->20->80->60->15->30->45\n",
    "intersection = 20->60\n",
    "'''\n",
    "\n",
    "\n",
    "def union(list1, list2):\n",
    "    # Write your code here\n",
    "    head1 = list1.get_head()\n",
    "    while head1:\n",
    "        head2 = list2.get_head()\n",
    "        is_present = False\n",
    "        while head2:\n",
    "            if head2.data == head1.data:\n",
    "                is_present = True\n",
    "            head2 = head2.next_element\n",
    "\n",
    "        if is_present is False:\n",
    "            list2.add_to_tail(NodeDLL(head1.data))\n",
    "        head1 = head1.next_element\n",
    "\n",
    "    return list2\n",
    "\n",
    "\n",
    "# Returns a list containing the intersection of list1 and list2\n",
    "\n",
    "\n",
    "def intersection(list1, list2):\n",
    "    # Write your code here\n",
    "    res = DoublyLinkedList()\n",
    "    set1 = set()\n",
    "\n",
    "    head1 = list1.get_head()\n",
    "    head2 = list2.get_head()\n",
    "\n",
    "    while head1:\n",
    "        set1.add(head1.data)\n",
    "        head1 = head1.next_element\n",
    "    while head2:\n",
    "        if head2.data in set1:\n",
    "            res.add_to_tail(NodeDLL(head2.data))\n",
    "        head2 = head2.next_element\n",
    "\n",
    "    return res\n",
    "\n",
    "\n",
    "if __name__ == '__main__':\n",
    "    dll1 = DoublyLinkedList()\n",
    "    dll1.add_to_tail(NodeDLL(7))\n",
    "    dll1.add_to_tail(NodeDLL(14))\n",
    "\n",
    "    dll2 = DoublyLinkedList()\n",
    "    dll2.add_to_tail(NodeDLL(7))\n",
    "    dll2.add_to_tail(NodeDLL(42))\n",
    "\n",
    "    r1 = intersection(dll1, dll2)\n",
    "    r2 = union(dll1, dll2)\n",
    "\n",
    "    print(\"intersection\")\n",
    "    r1.print_list_from_head()\n",
    "    print(\"union\")\n",
    "    r2.print_list_from_head()\n",
    "\n"
   ],
   "metadata": {
    "collapsed": false,
    "pycharm": {
     "name": "#%%\n"
    }
   }
  },
  {
   "cell_type": "code",
   "execution_count": 67,
   "outputs": [
    {
     "name": "stdout",
     "output_type": "stream",
     "text": [
      "14\n"
     ]
    }
   ],
   "source": [
    "'''\n",
    "Challenge 10: Return the Nth node from End\n",
    "\n",
    "Returning the Nth node from the start of a linked list is easy. Can you return Nth node from the end of a list?\n",
    "\n",
    "'''\n",
    "\n",
    "\n",
    "def find_nth(lst, n):\n",
    "    mun_elements = 0\n",
    "    head = lst.get_head()\n",
    "    while head:\n",
    "        mun_elements += 1\n",
    "        head = head.next_element\n",
    "    head = lst.get_head()\n",
    "\n",
    "    if n > mun_elements:\n",
    "        return -1\n",
    "    for i in range(mun_elements - n):\n",
    "        head = head.next_element\n",
    "\n",
    "    return head.data\n",
    "\n",
    "\n",
    "if __name__ == '__main__':\n",
    "    #find_nth(15->22->8->7->14->21->None, 2)\n",
    "    #Expected 8\n",
    "    dll1 = DoublyLinkedList()\n",
    "    dll1.add_to_tail(NodeDLL(15))\n",
    "    dll1.add_to_tail(NodeDLL(22))\n",
    "    dll1.add_to_tail(NodeDLL(8))\n",
    "    dll1.add_to_tail(NodeDLL(7))\n",
    "    dll1.add_to_tail(NodeDLL(14))\n",
    "    dll1.add_to_tail(NodeDLL(21))\n",
    "    print(find_nth(dll1, 2))"
   ],
   "metadata": {
    "collapsed": false,
    "pycharm": {
     "name": "#%%\n"
    }
   }
  },
  {
   "cell_type": "code",
   "execution_count": null,
   "outputs": [],
   "source": [
    "'''\n",
    "Challenge 10: Return the Nth node from End\n",
    "\n",
    "Returning the Nth node from the start of a linked list is easy. Can you return Nth node from the end of a list?\n",
    "\n",
    "* Solution #2: Two Pointers\n",
    "Move end_node forward n times, while nth_node stays at the head\n",
    "If end_node becomes None, n was out of bounds of the array. Return -1 to indicate that the node is not found.\n",
    "Once end_node is at nth position from the start, move both end_node and nth_node pointers simultaneously.\n",
    "When end_node reaches the end, nth_node is at the Nth position from the end\n",
    "Return the node’s value\n",
    "'''"
   ],
   "metadata": {
    "collapsed": false,
    "pycharm": {
     "name": "#%%\n"
    }
   }
  }
 ],
 "metadata": {
  "kernelspec": {
   "display_name": "Python 3",
   "language": "python",
   "name": "python3"
  },
  "language_info": {
   "codemirror_mode": {
    "name": "ipython",
    "version": 2
   },
   "file_extension": ".py",
   "mimetype": "text/x-python",
   "name": "python",
   "nbconvert_exporter": "python",
   "pygments_lexer": "ipython2",
   "version": "2.7.6"
  }
 },
 "nbformat": 4,
 "nbformat_minor": 0
}