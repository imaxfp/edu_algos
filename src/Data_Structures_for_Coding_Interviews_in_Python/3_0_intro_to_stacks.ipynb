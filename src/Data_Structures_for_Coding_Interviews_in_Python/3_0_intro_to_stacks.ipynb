{
 "cells": [
  {
   "cell_type": "markdown",
   "source": [
    "Stacks follow the Last in First Out (LIFO) ordering. The last one appears first.\n",
    "\n",
    "A real-life example of Stack could be a stack of books. So, in order to get the book that’s somewhere in the middle, you will have to remove all the books placed at the top of it.\n",
    "\n",
    "There are many famous algorithms such as Depth First Search and the Expression Evaluation Algorithm, which harness the functionality of Stacks. Stacks are used:\n",
    "\n",
    "To backtrack to the previous task/state, for example, in recursive code\n",
    "\n",
    "To store a partially completed task, for example, when you are exploring two different paths on a Graph from a point while figuring out the smallest path to the target.\n",
    "<br>\n",
    "\n",
    "<img src=\"./img/stack_basic.png\" alt=\"stack basic\" width=\"900\" height=\"600\">\n",
    "\n",
    "<br>\n",
    "\n",
    "**Stacks can be implemented** using Lists or Linked Lists in Python language. Each implementation has its own advantages and disadvantages. Here, however, we will show an implementation of stacks using lists.\n",
    "\n",
    "<br>\n",
    "<img src=\"./img/stack_time_complexity.png\" alt=\"stack basic\" width=\"800\" height=\"200\">\n"
   ],
   "metadata": {
    "collapsed": false
   }
  },
  {
   "cell_type": "code",
   "execution_count": 11,
   "outputs": [
    {
     "name": "stdout",
     "output_type": "stream",
     "text": [
      "Pushing elements into the stack\n",
      "1\n",
      "1\n",
      "0\n",
      "None\n"
     ]
    }
   ],
   "source": [
    "class MyStack:\n",
    "    def __init__(self):\n",
    "        self.stack_list = list()\n",
    "        self.stack_size = 0\n",
    "\n",
    "    def is_empty(self):\n",
    "        return len(self.stack_list) == 0\n",
    "\n",
    "    def push(self, val):\n",
    "        self.stack_list.append(val)\n",
    "        self.stack_size += 1\n",
    "\n",
    "    def pop(self):\n",
    "        if self.stack_size == 0:\n",
    "            return None\n",
    "\n",
    "        self.stack_size -= 1\n",
    "        return self.stack_list.pop()\n",
    "\n",
    "    def peek(self):\n",
    "        if self.is_empty():\n",
    "            return None\n",
    "        return self.stack_list[-1]\n",
    "\n",
    "\n",
    "if __name__ == '__main__':\n",
    "    stack_obj = MyStack()\n",
    "\n",
    "    print(\"Pushing elements into the stack\")\n",
    "    for i in range(2):\n",
    "        stack_obj.push(i)\n",
    "\n",
    "    print(stack_obj.peek())\n",
    "    print(stack_obj.pop())\n",
    "    print(stack_obj.pop())\n",
    "    print(stack_obj.pop())\n",
    "\n"
   ],
   "metadata": {
    "collapsed": false,
    "pycharm": {
     "name": "#%%\n"
    }
   }
  },
  {
   "cell_type": "code",
   "execution_count": null,
   "outputs": [],
   "source": [],
   "metadata": {
    "collapsed": false,
    "pycharm": {
     "name": "#%%\n"
    }
   }
  }
 ],
 "metadata": {
  "kernelspec": {
   "display_name": "Python 3",
   "language": "python",
   "name": "python3"
  },
  "language_info": {
   "codemirror_mode": {
    "name": "ipython",
    "version": 2
   },
   "file_extension": ".py",
   "mimetype": "text/x-python",
   "name": "python",
   "nbconvert_exporter": "python",
   "pygments_lexer": "ipython2",
   "version": "2.7.6"
  }
 },
 "nbformat": 4,
 "nbformat_minor": 0
}