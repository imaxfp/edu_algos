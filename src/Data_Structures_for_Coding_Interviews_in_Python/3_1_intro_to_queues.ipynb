{
 "cells": [
  {
   "cell_type": "markdown",
   "source": [
    "Similar to the stack, a queue is another linear data structure that stores the elements in a sequential manner. The only significant difference between stacks and queues is that instead of using the LIFO principle, queues implement the FIFO method which is short for **First in First Out.**\n",
    "\n",
    "* The elements are inserted from the back and removed from the front.\n",
    "* A perfect real-life example of a queue is a line of people waiting to get a ticket from the booth. If a new person comes, he will join the line from the end, and the person standing at the front will be the first to get the ticket and hence leave the line.\n",
    "\n",
    "\n",
    "#### What are Queues used for?\n",
    "Most operating systems also perform operations based on a Priority Queue (a kind of queue) which allows operating systems to switch between appropriate processes. They are also used to store packets on routers in a certain order when a network is congested. Implementing a cache also heavily relies on queues. We generally use Queues when:\n",
    "\n",
    "We want to prioritize something over another\n",
    "A resource is shared between multiple devices\n",
    "\n",
    "<br>\n",
    "\n",
    "| Function | Description |\n",
    "| --- | --- |\n",
    "| `enqueue(element)` | Inserts `element` at the end of the queue |\n",
    "| `dequeue()` | Removes an element from the start of the queue |\n",
    "| `front()` | Returns the first element of the queue |\n",
    "| `rear()` | Returns the last element inserted into the queue |\n",
    "| `isEmpty()` | Checks if the queue is empty |\n",
    "| `size()` | Returns the size of the queue |\n",
    "\n",
    "\n",
    "\n",
    "| Operation | Time Complexity |\n",
    "|-----------|-----------------|\n",
    "| is_empty() | O(1)            |\n",
    "| front()    | O(1)            |\n",
    "| rear()     | O(1)            |\n",
    "| size()     | O(1)            |\n",
    "| enqueue(element) | O(1)      |\n",
    "| dequeue()  | O(1)            |"
   ],
   "metadata": {
    "collapsed": false,
    "pycharm": {
     "name": "#%% md\n"
    }
   }
  },
  {
   "cell_type": "code",
   "execution_count": null,
   "outputs": [],
   "source": [
    "class Node:\n",
    "    def __init__(self, data):\n",
    "        self.data = data\n",
    "        self.next = None\n",
    "        self.prev = None\n",
    "\n",
    "\n",
    "class DoublyLinkedList:\n",
    "    def __init__(self):\n",
    "        self.head: Node = None\n",
    "        self.tail: Node = None\n",
    "        self.count = 0\n",
    "\n",
    "    def get_head(self):\n",
    "        return self.head\n",
    "\n",
    "    def is_empty(self):\n",
    "        if self.head is None:\n",
    "            return True\n",
    "        else:\n",
    "            return False\n",
    "\n",
    "    def count_nodes(self):\n",
    "        return self.count\n",
    "\n",
    "    def insert_to_head(self, node: Node):\n",
    "        if self.head is None:\n",
    "            self.head = node\n",
    "            self.tail = node\n",
    "            self.count += 1\n",
    "        else:\n",
    "            self.head.prev = node\n",
    "            node.next = self.head\n",
    "            self.head = node\n",
    "            self.count += 1\n",
    "\n",
    "    def inset_to_tail(self, node: Node):\n",
    "        if self.tail is None:\n",
    "            self.tail = node\n",
    "            self.head = node\n",
    "            self.count += 1\n",
    "        else:\n",
    "            self.tail.next = node\n",
    "            node.prev = self.tail\n",
    "            self.tail = node\n",
    "            self.count += 1\n",
    "\n",
    "    def print_from_head(self):\n",
    "        node = self.head\n",
    "        while node:\n",
    "            print(node.data)\n",
    "            node = node.next\n",
    "\n",
    "    def print_from_tail(self):\n",
    "        tail = self.tail\n",
    "        while tail:\n",
    "            print(tail.data)\n",
    "            tail = tail.prev\n",
    "\n",
    "    def remove_head(self):\n",
    "        if self.head is None:\n",
    "            return False\n",
    "        if self.tail is self.head:\n",
    "            head_data = self.head.data\n",
    "            self.head = None\n",
    "            self.tail = None\n",
    "            return head_data\n",
    "\n",
    "        else:\n",
    "            head = self.head\n",
    "            self.head = self.head.next\n",
    "            return head.data\n",
    "\n",
    "\n",
    "class MyQueue:\n",
    "    def __init__(self):\n",
    "        self.queue_dll = DoublyLinkedList()\n",
    "        self.queue_size = self.queue_dll.count\n",
    "\n",
    "    def enqueue(self, value):\n",
    "        self.queue_dll.inset_to_tail(Node(value))\n",
    "\n",
    "    def front(self):\n",
    "        return self.queue_dll.head\n",
    "\n",
    "    def rear(self):\n",
    "        return self.queue_dll.tail\n",
    "\n",
    "    def dequeue(self):\n",
    "        return self.queue_dll.remove_head()"
   ],
   "metadata": {
    "collapsed": false,
    "pycharm": {
     "name": "#%%\n",
     "is_executing": true
    }
   }
  },
  {
   "cell_type": "code",
   "execution_count": 28,
   "outputs": [
    {
     "name": "stdout",
     "output_type": "stream",
     "text": [
      "print from head\n",
      "777\n",
      "55\n",
      "1\n",
      "71\n",
      "72\n",
      "print from tail\n",
      "72\n",
      "71\n",
      "1\n",
      "55\n",
      "777\n",
      "Count nodes =  5\n",
      "Print from head = \n",
      "55\n",
      "1\n",
      "71\n",
      "72\n"
     ]
    }
   ],
   "source": [
    "if __name__ == '__main__':\n",
    "    dll = DoublyLinkedList()\n",
    "    dll.insert_to_head(Node(1))\n",
    "    dll.insert_to_head(Node(55))\n",
    "    dll.insert_to_head(Node(777))\n",
    "\n",
    "    dll.inset_to_tail(Node(71))\n",
    "    dll.inset_to_tail(Node(72))\n",
    "\n",
    "    print(\"print from head\")\n",
    "    dll.print_from_head()\n",
    "    print(\"print from tail\")\n",
    "    dll.print_from_tail()\n",
    "    print(\"Count nodes = \", dll.count_nodes())\n",
    "    dll.remove_head()\n",
    "    print(\"Print from head = \")\n",
    "    dll.print_from_head()"
   ],
   "metadata": {
    "collapsed": false,
    "pycharm": {
     "name": "#%%\n"
    }
   }
  },
  {
   "cell_type": "code",
   "execution_count": 29,
   "outputs": [
    {
     "name": "stdout",
     "output_type": "stream",
     "text": [
      "['1', '10', '11', '100', '101', '110', '111', '1000', '1001', '1010', '1011', '1100', '1101', '1110', '1111', '10000', '10001', '10010', '10011', '10100']\n"
     ]
    }
   ],
   "source": [
    "'''\n",
    "Challenge 1: Generate Binary Numbers from 1 to n using a Queue\n",
    "\n",
    "Can you generate binary numbers from 1 to any given number \"n\"?\n",
    "'''\n",
    "\n",
    "\n",
    "def find_bin(number):\n",
    "    res = []\n",
    "    queue = MyQueue()\n",
    "    queue.enqueue(1)\n",
    "\n",
    "    for i in range(number):\n",
    "        res.append(str(queue.dequeue()))\n",
    "        s1 = res[i] + \"0\"\n",
    "        s2 = res[i] + \"1\"\n",
    "        queue.enqueue(s1)\n",
    "        queue.enqueue(s2)\n",
    "    # Write your code here\n",
    "    return res\n",
    "\n",
    "\n",
    "if __name__ == '__main__':\n",
    "    print(find_bin(20))"
   ],
   "metadata": {
    "collapsed": false,
    "pycharm": {
     "name": "#%%\n"
    }
   }
  },
  {
   "cell_type": "code",
   "execution_count": null,
   "outputs": [],
   "source": [
    "'''\n",
    "Challenge 2: Implement Two Stacks Using One List\n",
    "Two stacks using a single array such that for storing elements both stacks should use the same array.\n",
    "'''\n"
   ],
   "metadata": {
    "collapsed": false,
    "pycharm": {
     "name": "#%%\n"
    }
   }
  }
 ],
 "metadata": {
  "kernelspec": {
   "display_name": "Python 3",
   "language": "python",
   "name": "python3"
  },
  "language_info": {
   "codemirror_mode": {
    "name": "ipython",
    "version": 2
   },
   "file_extension": ".py",
   "mimetype": "text/x-python",
   "name": "python",
   "nbconvert_exporter": "python",
   "pygments_lexer": "ipython2",
   "version": "2.7.6"
  }
 },
 "nbformat": 4,
 "nbformat_minor": 0
}