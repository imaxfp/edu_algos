{
 "cells": [
  {
   "cell_type": "code",
   "execution_count": null,
   "outputs": [],
   "source": [],
   "metadata": {
    "collapsed": false,
    "pycharm": {
     "name": "#%%\n"
    }
   }
  },
  {
   "cell_type": "code",
   "execution_count": 5,
   "outputs": [
    {
     "name": "stdout",
     "output_type": "stream",
     "text": [
      "[1, 2, 3, 4, 5, 6, 7, 8]\n"
     ]
    }
   ],
   "source": [
    "'''\n",
    "Challenge 2: Merge Two Sorted Lists\n",
    "'''\n",
    "\n",
    "\n",
    "def merge_lists(lst1, lst2):\n",
    "    res = []\n",
    "    i = j = 0\n",
    "    while i < len(lst1) and j < len(lst2):\n",
    "        if lst1[i] <= lst2[j]:\n",
    "            res.append(lst1[i])\n",
    "            i += 1\n",
    "        else:\n",
    "            res.append(lst2[j])\n",
    "            j += 1\n",
    "    res.extend(lst1[i:])\n",
    "    res.extend(lst2[j:])\n",
    "    return res\n",
    "\n",
    "\n",
    "if __name__ == '__main__':\n",
    "    print(merge_lists([1, 3, 4, 5], [2, 6, 7, 8]))"
   ],
   "metadata": {
    "collapsed": false,
    "pycharm": {
     "name": "#%%\n"
    }
   }
  },
  {
   "cell_type": "code",
   "execution_count": null,
   "outputs": [],
   "source": [
    "'''\n",
    "Solution #3: Find Two Numbers that Add up to \"k\"\n",
    "'''"
   ],
   "metadata": {
    "collapsed": false,
    "pycharm": {
     "name": "#%%\n"
    }
   }
  },
  {
   "cell_type": "code",
   "execution_count": 14,
   "outputs": [
    {
     "name": "stdout",
     "output_type": "stream",
     "text": [
      "[24, 12, 8, 6]\n",
      "[24, 12, 8, 6]\n"
     ]
    }
   ],
   "source": [
    "'''\n",
    "Challenge 4: List of Products of all Elements\n",
    "\n",
    "Problem Statement\n",
    "Implement a function, find_product(lst), which modifies a list so that each index has a product of all the numbers present in the list except the number stored at that index.\n",
    "\n",
    "Sample Input\n",
    "arr = [1,2,3,4]\n",
    "Sample Output\n",
    "arr = [24,12,8,6]\n",
    "'''\n",
    "\n",
    "\n",
    "def find_product(lst):\n",
    "    res = [1 for _ in lst]\n",
    "    for i in range(0, len(lst)):\n",
    "        for j in range(0, len(lst)):\n",
    "            if i != j:\n",
    "                res[i] *= lst[j]\n",
    "    return res\n",
    "\n",
    "\n",
    "def find_product_n(lst):\n",
    "    mult_sum = 1\n",
    "    for n in lst:\n",
    "        mult_sum *= n\n",
    "    return list(map(lambda n: mult_sum // n, lst))\n",
    "\n",
    "\n",
    "if __name__ == '__main__':\n",
    "    print(find_product([1, 2, 3, 4]))\n",
    "    print(find_product_n([1, 2, 3, 4]))"
   ],
   "metadata": {
    "collapsed": false,
    "pycharm": {
     "name": "#%%\n"
    }
   }
  },
  {
   "cell_type": "code",
   "execution_count": 17,
   "outputs": [
    {
     "name": "stdout",
     "output_type": "stream",
     "text": [
      "1\n"
     ]
    }
   ],
   "source": [
    "'''\n",
    "Challenge 5: Find Minimum Value in List\n",
    "Implement a function findMinimum(lst) which finds the smallest number in the given list.\n",
    "\n",
    "Solution should takes O(nlogn) time.\n",
    "'''\n",
    "\n",
    "\n",
    "def merge_sort(my_list):\n",
    "    if len(my_list) > 1:\n",
    "        #1.\n",
    "        mid = len(my_list) // 2\n",
    "        left = my_list[:mid]\n",
    "        right = my_list[mid:]\n",
    "\n",
    "        # Recursive call on each half\n",
    "        merge_sort(left)\n",
    "        merge_sort(right)\n",
    "\n",
    "        # Two iterators for traversing the two halves\n",
    "        i = 0\n",
    "        j = 0\n",
    "\n",
    "        # Iterator for the main list\n",
    "        k = 0\n",
    "        #2.\n",
    "        while i < len(left) and j < len(right):\n",
    "            if left[i] < right[j]:\n",
    "                # The value from the left half has been used\n",
    "                my_list[k] = left[i]\n",
    "                # Move the iterator forward\n",
    "                i += 1\n",
    "            else:\n",
    "                my_list[k] = right[j]\n",
    "                j += 1\n",
    "            # Move to the next slot\n",
    "            k += 1\n",
    "        #3.\n",
    "        # For all the remaining values\n",
    "        while i < len(left):\n",
    "            my_list[k] = left[i]\n",
    "            i += 1\n",
    "            k += 1\n",
    "\n",
    "        while j < len(right):\n",
    "            my_list[k] = right[j]\n",
    "            j += 1\n",
    "            k += 1\n",
    "\n",
    "\n",
    "def find_minimum(lst):\n",
    "    if len(lst) <= 0:\n",
    "        return None\n",
    "    merge_sort(lst)  # sort list\n",
    "    return lst[0]  # return first element\n",
    "\n",
    "\n",
    "if __name__ == '__main__':\n",
    "    print(find_minimum([9, 2, 3, 6, 1]))"
   ],
   "metadata": {
    "collapsed": false,
    "pycharm": {
     "name": "#%%\n"
    }
   }
  },
  {
   "cell_type": "code",
   "execution_count": 26,
   "outputs": [
    {
     "name": "stdout",
     "output_type": "stream",
     "text": [
      "5\n"
     ]
    }
   ],
   "source": [
    "'''\n",
    "Challenge 6: First Non-Repeating Integer in a list\n",
    "\n",
    "Implement a function, find_first_unique(lst) that returns the first unique integer in the list.\n",
    "'''\n",
    "\n",
    "\n",
    "def find_first_unique(lst):\n",
    "    for i in range(0, len(lst)):\n",
    "        not_repeat = True\n",
    "        for j in range(i + 1, len(lst)):\n",
    "            if lst[i] == lst[j]:\n",
    "                not_repeat = False\n",
    "        if not_repeat:\n",
    "            return lst[i]\n",
    "\n",
    "\n",
    "if __name__ == '__main__':\n",
    "    print(find_first_unique([4, 5, 1, 2, 0, 4]))"
   ],
   "metadata": {
    "collapsed": false,
    "pycharm": {
     "name": "#%%\n"
    }
   }
  },
  {
   "cell_type": "code",
   "execution_count": 36,
   "outputs": [
    {
     "name": "stdout",
     "output_type": "stream",
     "text": [
      "19\n"
     ]
    }
   ],
   "source": [
    "'''\n",
    "Challenge 7: Find Second Maximum Value in a List\n",
    "\n",
    "Implement a function find_second_maximum(lst) which returns the second largest element in the list.\n",
    "\n",
    "'''\n",
    "\n",
    "\n",
    "def find_second_maximum(lst):\n",
    "    # O(nlogn)\n",
    "    #lst.sort()\n",
    "    #return lst[-2]\n",
    "\n",
    "    # O(n)\n",
    "    first_max = second_max = -1\n",
    "    for i in lst:\n",
    "        if i > first_max:\n",
    "            first_max = i\n",
    "        if second_max < i != first_max:\n",
    "            second_max = i\n",
    "\n",
    "    return second_max\n",
    "\n",
    "\n",
    "if __name__ == '__main__':\n",
    "    print(find_second_maximum([4, 5, 1, 20, 0, 19]))"
   ],
   "metadata": {
    "collapsed": false,
    "pycharm": {
     "name": "#%%\n"
    }
   }
  },
  {
   "cell_type": "code",
   "execution_count": 42,
   "outputs": [
    {
     "name": "stdout",
     "output_type": "stream",
     "text": [
      "[4, 5, 1, 2, 3]\n"
     ]
    }
   ],
   "source": [
    "'''\n",
    "Challenge 8: Right Rotate List\n",
    "\n",
    "Given a list, can you rotate its elements by one index from right to left?\n",
    "\n",
    "Sample Input\n",
    "lst =[1, 2, 3, 4, 5]\n",
    "k = 2\n",
    "Sample Output\n",
    "lst = [[4, 5, 1, 2, 3]\n",
    "'''\n",
    "\n",
    "\n",
    "def right_rotate(lst, k):\n",
    "    return lst[len(lst) - k:] + lst[:len(lst) - k]\n",
    "\n",
    "\n",
    "if __name__ == '__main__':\n",
    "    print(right_rotate([1, 2, 3, 4, 5], 2))"
   ],
   "metadata": {
    "collapsed": false,
    "pycharm": {
     "name": "#%%\n"
    }
   }
  },
  {
   "cell_type": "code",
   "execution_count": 43,
   "outputs": [
    {
     "name": "stdout",
     "output_type": "stream",
     "text": [
      "[-1, -4, -3, 2, 5]\n"
     ]
    }
   ],
   "source": [
    "'''\n",
    "Challenge 9: Rearrange Positive & Negative Values\n",
    "\n",
    "Implement a function rearrange(lst) which rearranges the elements such that all the negative elements appear on the left and positive elements appear at the right of the list. Note that it is not necessary to maintain the sorted order of the input list.\n",
    "\n",
    "'''\n",
    "\n",
    "\n",
    "def rearrange(lst):\n",
    "    for i in range(len(lst) - 1):\n",
    "        if lst[i] >= 0:\n",
    "            for j in range(len(lst) - 1, i, -1):\n",
    "                if lst[j] < 0:\n",
    "                    tmp = lst[i]\n",
    "                    lst[i] = lst[j]\n",
    "                    lst[j] = tmp\n",
    "                    break\n",
    "    return lst\n",
    "\n",
    "\n",
    "if __name__ == '__main__':\n",
    "    #[-1, -4, -3, 2, 5]\n",
    "    print(rearrange([-1, 2, -3, -4, 5]))"
   ],
   "metadata": {
    "collapsed": false,
    "pycharm": {
     "name": "#%%\n"
    }
   }
  },
  {
   "cell_type": "code",
   "execution_count": 67,
   "outputs": [
    {
     "name": "stdout",
     "output_type": "stream",
     "text": [
      "[7, 1, 6, 2, 5, 3, 4]\n"
     ]
    }
   ],
   "source": [
    "'''\n",
    "Challenge 10: Rearrange Sorted List in Max/Min Form\n",
    "\n",
    "'''\n",
    "\n",
    "\n",
    "def max_min(lst):\n",
    "    res = []\n",
    "    pivot = len(lst) // 2\n",
    "    for i in range(0, pivot):\n",
    "        res.append(lst[-i - 1])\n",
    "        res.append(lst[i])\n",
    "    res.append(lst[pivot])\n",
    "    return res\n",
    "\n",
    "\n",
    "if __name__ == '__main__':\n",
    "    #[7, 1, 6, 2, 5, 3, 4]\n",
    "    print(max_min([1, 2, 3, 4, 5, 6, 7]))"
   ],
   "metadata": {
    "collapsed": false,
    "pycharm": {
     "name": "#%%\n"
    }
   }
  },
  {
   "cell_type": "code",
   "execution_count": 75,
   "outputs": [
    {
     "name": "stdout",
     "output_type": "stream",
     "text": [
      "[-4]\n",
      "[-4, 2]\n",
      "[-5]\n",
      "[1]\n",
      "[1, 2]\n",
      "[1, 2, 3]\n",
      "[1, 2, 3, 6]\n",
      "[-5]\n",
      "12\n"
     ]
    }
   ],
   "source": [
    "'''\n",
    "!!! *\n",
    "Challenge 11: Maximum Sum Sublist\n",
    "\n",
    "Coding challenge\n",
    "Take a close look and design a step-by-step algorithm before jumping on to the implementation. This problem is designed for your practice, so try to solve it on your own first before referring to the solution ahead.\n",
    "\n",
    "Input\n",
    "[-4, 2, -5, 1, 2, 3, 6, -5, 1]\n",
    "\n",
    "Sample output 'largest sub arr'\n",
    "[1, 2, 3, 6]\n",
    "largest_sum = 12\n",
    "'''\n",
    "\n",
    "\n",
    "def find_max_sum_sublist(lst):\n",
    "    res = [lst[0]].copy()\n",
    "    tmp_subarr = [lst[0]].copy()\n",
    "    for i in range(1, len(lst)):\n",
    "        print(tmp_subarr)\n",
    "        tmp_subarr.append(lst[i])\n",
    "        if sum(tmp_subarr) > sum(res):\n",
    "            res = tmp_subarr.copy()\n",
    "        elif sum(tmp_subarr) < sum(res):\n",
    "            tmp_subarr.clear()\n",
    "            tmp_subarr.append(lst[i])\n",
    "    return sum(res)\n",
    "\n",
    "# Kadane’s Algorithm - implement it 'just sum, without additional arrays''\n",
    "\n",
    "if __name__ == '__main__':\n",
    "    #12\n",
    "    print(find_max_sum_sublist([-4, 2, -5, 1, 2, 3, 6, -5, 1]))"
   ],
   "metadata": {
    "collapsed": false,
    "pycharm": {
     "name": "#%%\n"
    }
   }
  }
 ],
 "metadata": {
  "kernelspec": {
   "display_name": "Python 3",
   "language": "python",
   "name": "python3"
  },
  "language_info": {
   "codemirror_mode": {
    "name": "ipython",
    "version": 2
   },
   "file_extension": ".py",
   "mimetype": "text/x-python",
   "name": "python",
   "nbconvert_exporter": "python",
   "pygments_lexer": "ipython2",
   "version": "2.7.6"
  }
 },
 "nbformat": 4,
 "nbformat_minor": 0
}