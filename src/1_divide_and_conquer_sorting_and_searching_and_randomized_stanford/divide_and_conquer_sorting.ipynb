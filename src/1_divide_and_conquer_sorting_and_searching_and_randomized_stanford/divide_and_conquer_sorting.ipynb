{
 "cells": [
  {
   "cell_type": "code",
   "execution_count": 54,
   "metadata": {
    "collapsed": true,
    "pycharm": {
     "name": "#%%\n"
    }
   },
   "outputs": [
    {
     "name": "stdout",
     "output_type": "stream",
     "text": [
      "arr: [1, 2, 4, 8]\n"
     ]
    }
   ],
   "source": [
    "\"\"\"\n",
    "MERGE SORT recursion approach\n",
    "1945, John Von Neumann developed the merge sort algorithm using the divide-and-conquer approach.\n",
    "\n",
    "1. Divide For dividing the array, we calculate the midpoint of the array by using the formula mid = len(array)//2\n",
    "\n",
    "2. Conquer In this step, we divide the array into sub-arrays with the help of the midpoint calculated. This division into sub-arrays and calculation of midpoint is done recursively for the same. As we know, a single element in an array is always sorted. We have to continuously divide the sub-arrays until all elements in the array are single array elements.\n",
    "\n",
    "3. Combine Since, now we are done with the formation of sub-arrays, the last step is to combine them back in SORTED ORDER.\n",
    "\"\"\"\n",
    "\n",
    "\n",
    "def merge_sort(arr: [int]):\n",
    "    # if it is only one element in the list it is already sorted, return.\n",
    "    if len(arr) == 1:\n",
    "        return arr\n",
    "    #1. Divide For dividing the array, we calculate the midpoint of the array by using the formula mid = len(array)//2\n",
    "    pivot = len(arr) // 2\n",
    "    left = arr[:pivot]\n",
    "    right = arr[pivot:]\n",
    "\n",
    "    merge_sort(left)\n",
    "    merge_sort(right)\n",
    "\n",
    "    # 2 and 3 steps - It is now the turn is to sort them and combine them.\n",
    "    # Each sub-part is then solved separately, and the solutions are recombined to solve the original problem.\n",
    "\n",
    "    #Iterators for the left and right\n",
    "    i = j = 0\n",
    "\n",
    "    #Iterate via main list\n",
    "    k = 0\n",
    "\n",
    "    while i < len(left) and j < len(right):\n",
    "        if left[i] < right[j]:\n",
    "            arr[k] = left[i]\n",
    "            i += 1\n",
    "        else:\n",
    "            arr[k] = right[j]\n",
    "            j += 1\n",
    "        k += 1\n",
    "\n",
    "    #Combine to the result arr\n",
    "    while i < len(left):\n",
    "        arr[k] = left[i]\n",
    "        i += 1\n",
    "        k += 1\n",
    "\n",
    "    while j < len(right):\n",
    "        arr[k] = right[j]\n",
    "        j += 1\n",
    "        k += 1\n",
    "\n",
    "    return arr\n",
    "\n",
    "\n",
    "if __name__ == '__main__':\n",
    "    arr = [8, 4, 2, 1]\n",
    "    merge_sort(arr)\n",
    "    print(\"arr:\", arr)"
   ]
  },
  {
   "cell_type": "code",
   "execution_count": null,
   "outputs": [],
   "source": [
    "    '''\n",
    "    https://www.geeksforgeeks.org/inversion-count-in-array-using-merge-sort/\n",
    "\n",
    "    Count inversions\n",
    "    Input: arr[] = {8, 4, 2, 1}\n",
    "    Output: 6\n",
    "    Explanation: Given array has six inversions: (8, 4), (4, 2), (8, 2), (8, 1), (4, 1), (2, 1).\n",
    "\n",
    "    Input: arr[] = {1, 20, 6, 4, 5}\n",
    "    Output: 5\n",
    "    Explanation: Given array has five inversions: (20, 6), (20, 4), (20, 5), (6, 4), (6, 5).\n",
    "    '''"
   ],
   "metadata": {
    "collapsed": false,
    "pycharm": {
     "name": "#%%\n"
    }
   }
  },
  {
   "cell_type": "code",
   "execution_count": null,
   "outputs": [],
   "source": [
    "'''\n",
    "QUICKSORT - THE ALGORITHM (Part V). One of the greatest algorithms ever.\n",
    "\n",
    "\n",
    "\n",
    "\n",
    "\n",
    "'''"
   ],
   "metadata": {
    "collapsed": false,
    "pycharm": {
     "name": "#%%\n"
    }
   }
  }
 ],
 "metadata": {
  "kernelspec": {
   "display_name": "Python 3",
   "language": "python",
   "name": "python3"
  },
  "language_info": {
   "codemirror_mode": {
    "name": "ipython",
    "version": 2
   },
   "file_extension": ".py",
   "mimetype": "text/x-python",
   "name": "python",
   "nbconvert_exporter": "python",
   "pygments_lexer": "ipython2",
   "version": "2.7.6"
  }
 },
 "nbformat": 4,
 "nbformat_minor": 0
}