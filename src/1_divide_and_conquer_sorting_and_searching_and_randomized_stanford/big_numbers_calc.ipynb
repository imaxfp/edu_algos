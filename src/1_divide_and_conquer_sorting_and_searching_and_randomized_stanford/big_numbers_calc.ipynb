{
 "cells": [
  {
   "cell_type": "code",
   "execution_count": 105,
   "metadata": {
    "collapsed": true,
    "pycharm": {
     "name": "#%%\n"
    }
   },
   "outputs": [
    {
     "name": "stdout",
     "output_type": "stream",
     "text": [
      "2816\n",
      "98010\n",
      "818211907428\n",
      "85397342226734166964463550868546574494913488841257651149618795101127067743044893204848617875072216249073013374895871952806582723188\n"
     ]
    }
   ],
   "source": [
    "\n",
    "\n",
    "def addition(first, second):\n",
    "    first_arr = list(map(lambda x: int(x), first))\n",
    "    second_arr = list(map(lambda x: int(x), second))\n",
    "\n",
    "    max_len = max(len(first), len(second))\n",
    "    result_arr = [0 for _ in range(max_len)]\n",
    "\n",
    "    if len(first_arr) < max_len:\n",
    "        first_arr = [0 for _ in range(max_len - len(first_arr))] + first_arr\n",
    "\n",
    "    if len(second_arr) < max_len:\n",
    "        second_arr = [0 for _ in range(max_len - len(second_arr))] + second_arr\n",
    "\n",
    "    for i in range(max_len - 1, -1, -1):\n",
    "        res = first_arr[i] + second_arr[i]\n",
    "        if res > 9:\n",
    "            result_arr[i - 1] += 1\n",
    "            result_arr[i] += res - 10\n",
    "        else:\n",
    "            result_arr[i] += res\n",
    "    return result_arr\n",
    "\n",
    "\n",
    "def multiplication(first, second):\n",
    "    first_arr = list(map(lambda x: int(x), first))\n",
    "    second_arr = list(map(lambda x: int(x), second))\n",
    "\n",
    "    total_multiplication_res = []\n",
    "    for i_second in range(len(second_arr) - 1, -1, -1):\n",
    "        # create tmp for the first arr, because numbers in the array can be updated due to 'school grade algorithm'\n",
    "        mult_res_arr = [0 for _ in first_arr]\n",
    "        next_num = 0\n",
    "        for i in range(len(first_arr) - 1, -1, -1):\n",
    "            curr = second_arr[i_second] * first_arr[i]\n",
    "\n",
    "            if curr > 9:\n",
    "                next_num = curr // 10\n",
    "                curr = curr % 10\n",
    "\n",
    "            mult_res_arr[i] = curr + mult_res_arr[i]\n",
    "            if next_num > 0 and i != 0:\n",
    "                mult_res_arr[i - 1] = next_num\n",
    "\n",
    "            elif i == 0 and next_num > 0:\n",
    "                mult_res_arr.insert(0, next_num)\n",
    "            next_num = 0\n",
    "\n",
    "            #add result of summation with 0 to the end due to 'school grade algorithm'\n",
    "        total_multiplication_res.append(mult_res_arr + [0 for _ in range(len(second_arr) - i_second - 1)])\n",
    "\n",
    "    if len(total_multiplication_res) <= 1:\n",
    "        return ''.join([str(elem) for elem in total_multiplication_res[0]])\n",
    "    else:\n",
    "        first = total_multiplication_res[0]\n",
    "        for nums in range(1, len(total_multiplication_res)):\n",
    "            first = addition(first, total_multiplication_res[nums])\n",
    "        return ''.join([str(elem) for elem in first])\n",
    "\n",
    "\n",
    "if __name__ == \"__main__\":\n",
    "    #print(addition(\"24\", \"240\"))\n",
    "    #print(addition(\"266\", \"2660\"))\n",
    "    print(multiplication(\"128\", \"22\"))\n",
    "    print(multiplication(\"990\", \"99\"))\n",
    "    '''\n",
    "    128\n",
    "     22\n",
    "    ---\n",
    "    256\n",
    "   2560\n",
    "   2816\n",
    "    '''\n",
    "    print(multiplication(\"90014\",\"909102\"))\n",
    "    print(multiplication(\"3141592653589793238462643383279502884197169399375105820974944592\",\n",
    "                         \"2718281828459045235360287471352662497757247093699959574966967627\"))\n",
    "\n",
    "    #8539734222673567065463550869546574495034888535765114961879601127067743044893204848617875072216249073013374895871952806582723184\n",
    "    #85397342226734166964463550868546574494913488841257651149618795101127067743044893204848617875072216249073013374895871952806582723188\n"
   ]
  }
 ],
 "metadata": {
  "kernelspec": {
   "display_name": "Python 3",
   "language": "python",
   "name": "python3"
  },
  "language_info": {
   "codemirror_mode": {
    "name": "ipython",
    "version": 2
   },
   "file_extension": ".py",
   "mimetype": "text/x-python",
   "name": "python",
   "nbconvert_exporter": "python",
   "pygments_lexer": "ipython2",
   "version": "2.7.6"
  }
 },
 "nbformat": 4,
 "nbformat_minor": 0
}